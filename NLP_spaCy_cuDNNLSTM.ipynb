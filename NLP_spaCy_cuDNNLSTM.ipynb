{
 "cells": [
  {
   "cell_type": "markdown",
   "metadata": {},
   "source": [
    "# NLP spacy + LSTM Sentiment Analysis of Amazon Product Reviews \n",
    "# Overview\n",
    "This is a project of tagging \"good\" or \"bad\" Amazon product reviews (binary classification). The word embedding vectors are using state-of-the-art NLP product [spaCy](https://spacy.io/models/) and LSTM. \n",
    "\n",
    "What's learned?\n",
    "* Using LIME to interpret what is really happening in a black box model classifying good or bad reviews.\n",
    "* Decoding binary files directly into strings\n",
    "* Parsing sentences into list of words, the \"truncated\" word sequence is then fed into LSTM.\n",
    "* Train many-to-one Bidirectional LSTM using spaCy frozen embeddings as Embedding layers, and a TimeDistributed Dense layer.\n",
    "* Small mini-batches converges faster!\n",
    "\n",
    "# Data\n",
    "The [data](https://www.kaggle.com/bittlingmayer/amazonreviews) is downloaded from Kaggle, and data cleaning and preprocessing uses the codes modified from the [kernel by Anshul Rai](https://www.kaggle.com/anshulrai/cudnnlstm-implementation-93-7-accuracy) and model training codes from [spaCy](https://spacy.io/models/). \n"
   ]
  },
  {
   "cell_type": "code",
   "execution_count": 1,
   "metadata": {
    "scrolled": true
   },
   "outputs": [
    {
     "name": "stderr",
     "output_type": "stream",
     "text": [
      "Using TensorFlow backend.\n"
     ]
    },
    {
     "name": "stdout",
     "output_type": "stream",
     "text": [
      "['train.ft.txt.bz2.zip', 'model-5.h5', 'test.ft.txt.bz2', 'train.ft.txt.bz2']\n"
     ]
    }
   ],
   "source": [
    "#import SentimentAnalyser # spaCy\n",
    "from deep_learning_keras import SentimentAnalyser\n",
    "from deep_learning_keras import get_features\n",
    "#import plac # reads in command line arguments via plac.call()\n",
    "#import random\n",
    "#import pathlib\n",
    "#import cytoolz\n",
    "#import thinc.extra.datasets\n",
    "#from spacy.compat import pickle\n",
    "import spacy\n",
    "import numpy as np \n",
    "import pandas as pd \n",
    "import bz2\n",
    "import gc # garbage collector, release unused memory\n",
    "import chardet\n",
    "import re\n",
    "import os\n",
    "print(os.listdir(\"./input\"))\n",
    "from keras.models import Model, Sequential, model_from_json\n",
    "from keras.layers import LSTM, Dense, Embedding, Bidirectional, TimeDistributed, Input, Conv1D, GlobalMaxPool1D, Dropout, concatenate, Layer, InputSpec, CuDNNLSTM\n",
    "from keras.optimizers import Adam\n",
    "#from keras.preprocessing import text, sequence\n",
    "from keras.callbacks import EarlyStopping, ModelCheckpoint\n",
    "from keras import backend as K\n",
    "from keras import activations, initializers, regularizers, constraints\n",
    "from keras.utils.conv_utils import conv_output_length\n",
    "from keras.regularizers import l2\n",
    "from keras.constraints import maxnorm\n",
    "from keras.models import load_model\n"
   ]
  },
  {
   "cell_type": "markdown",
   "metadata": {},
   "source": [
    "Read in the train and test binary datasets:"
   ]
  },
  {
   "cell_type": "code",
   "execution_count": 2,
   "metadata": {},
   "outputs": [],
   "source": [
    "train_file = bz2.BZ2File('./input/train.ft.txt.bz2')\n",
    "test_file = bz2.BZ2File('./input/test.ft.txt.bz2')"
   ]
  },
  {
   "cell_type": "markdown",
   "metadata": {},
   "source": [
    "Decoding binary files directly into a list of strings:"
   ]
  },
  {
   "cell_type": "code",
   "execution_count": 3,
   "metadata": {},
   "outputs": [],
   "source": [
    "def readbinary2list(file): # \n",
    "    lines = file.readlines()\n",
    "    lines = [line.decode('utf-8') for line in lines]\n",
    "    labels = [0 if line.split(' ')[0] == '__label__1' else 1 for line in lines]\n",
    "    sentences = [line.split(' ', 1)[1][:-1].lower() for line in lines]\n",
    "    for i in range(len(sentences)):\n",
    "        sentences[i] = re.sub('\\d','0',sentences[i])\n",
    "        if 'www.' in sentences[i] or 'http:' in sentences[i] or 'https:' in sentences[i] or '.com' in sentences[i]:\n",
    "            sentences[i] = re.sub(r\"([^ ]+(?<=\\.[a-z]{3}))\", \"<url>\", sentences[i])    \n",
    "    return labels, sentences"
   ]
  },
  {
   "cell_type": "code",
   "execution_count": 4,
   "metadata": {
    "scrolled": false
   },
   "outputs": [],
   "source": [
    "train_labels,train_sentences = readbinary2list(train_file)\n",
    "test_labels,test_sentences = readbinary2list(test_file)\n",
    "#print(test_labels)"
   ]
  },
  {
   "cell_type": "markdown",
   "metadata": {},
   "source": [
    "Checkout how the labels and product review sentences look like:"
   ]
  },
  {
   "cell_type": "code",
   "execution_count": 5,
   "metadata": {},
   "outputs": [
    {
     "name": "stdout",
     "output_type": "stream",
     "text": [
      "label: 1 \n",
      "\n",
      "sentences: \n",
      "stuning even for the non-gamer: this sound track was beautiful! it paints the senery in your mind so well i would recomend it even to people who hate vid. game music! i have played the game chrono cross but out of all of the games i have ever played it has the best music! it backs away from crude keyboarding and takes a fresher step with grate guitars and soulful orchestras. it would impress anyone who cares to listen! ^_^\n",
      "\n",
      "label: 0 \n",
      "\n",
      "sentences: \n",
      "buyer beware: this is a self-published book, and if you want to know why--read a few paragraphs! those 0 star reviews must have been written by ms. haddon's family and friends--or perhaps, by herself! i can't imagine anyone reading the whole thing--i spent an evening with the book and a friend and we were in hysterics reading bits and pieces of it to one another. it is most definitely bad enough to be entered into some kind of a \"worst book\" contest. i can't believe amazon even sells this kind of thing. maybe i can offer them my 0th grade term paper on \"to kill a mockingbird\"--a book i am quite sure ms. haddon never heard of. anyway, unless you are in a mood to send a book to someone as a joke---stay far, far away from this one!\n",
      "\n"
     ]
    }
   ],
   "source": [
    "i=0\n",
    "print('label: %s \\n\\nsentences: \\n%s\\n'%(train_labels[i],train_sentences[i]))\n",
    "\n",
    "i=6\n",
    "print('label: %s \\n\\nsentences: \\n%s\\n'%(train_labels[i],train_sentences[i]))"
   ]
  },
  {
   "cell_type": "code",
   "execution_count": 6,
   "metadata": {},
   "outputs": [],
   "source": [
    "#gc.collect() # free memory\n",
    "maxlen = 100"
   ]
  },
  {
   "cell_type": "markdown",
   "metadata": {},
   "source": [
    "Load spaCy word embedding vectors, and parse the strings into a list of word sequences:"
   ]
  },
  {
   "cell_type": "code",
   "execution_count": 7,
   "metadata": {},
   "outputs": [],
   "source": [
    "def get_embeddings(vocab):\n",
    "    return vocab.vectors.data\n",
    "\n",
    "nlp = spacy.load('/usr/local/lib/python3.5/site-packages/spacy/data/en_core_web_lg/en_core_web_lg-2.0.0')\n",
    "#nlp = spacy.load('en') # equivalent to space.load('/usr/local/Cellar/python/3.7.2_1/Frameworks/Python.framework/Versions/3.7/lib/python3.7/site-packages/spacy/data/en')\n",
    "try:\n",
    "    nlp.add_pipe(nlp.create_pipe('sentencizer'))\n",
    "except:\n",
    "    print('Sentencizer already loaded')\n",
    "nsamp_train = 50000\n",
    "nsamp_dev = round(nsamp_train/8)\n",
    "embeddings = get_embeddings(nlp.vocab)\n"
   ]
  },
  {
   "cell_type": "code",
   "execution_count": 14,
   "metadata": {},
   "outputs": [
    {
     "name": "stdout",
     "output_type": "stream",
     "text": [
      "[1 1 1 ... 0 1 1]\n"
     ]
    }
   ],
   "source": [
    "#print(train_labels)"
   ]
  },
  {
   "cell_type": "code",
   "execution_count": null,
   "metadata": {
    "scrolled": false
   },
   "outputs": [],
   "source": [
    "print(\"Parsing texts...\")\n",
    "nsamp_dev = round(nsamp_train/8)\n",
    "# create a list of words for a doc\n",
    "train_docs = list(nlp.pipe(train_sentences[0:nsamp_train])) # makes a list of reviews, e.g., train_doc[0] contains the 1st review with texts separated into\n",
    "train_labels = np.asarray(train_labels[0:nsamp_train], dtype='int32')\n",
    "\n",
    "dev_docs   = list(nlp.pipe(test_sentences[0:nsamp_dev])) # makes a list of reviews, e.g., train_doc[0] contains the 1st review with texts separated into\n",
    "dev_labels   = np.asarray(test_labels[0:nsamp_dev], dtype='int32')\n",
    "\n",
    "test_docs   = list(nlp.pipe(test_sentences[nsamp_dev:2*nsamp_dev]))\n",
    "test_labels   = np.asarray(test_labels[nsamp_dev:2*nsamp_dev], dtype='int32')\n"
   ]
  },
  {
   "cell_type": "markdown",
   "metadata": {},
   "source": [
    "Map all the texts in the sentences into unique integers/features:"
   ]
  },
  {
   "cell_type": "code",
   "execution_count": null,
   "metadata": {},
   "outputs": [],
   "source": [
    "train_X = get_features(train_docs, maxlen) \n",
    "dev_X = get_features(dev_docs, maxlen)\n",
    "test_X = get_features(test_docs, maxlen)"
   ]
  },
  {
   "cell_type": "code",
   "execution_count": null,
   "metadata": {},
   "outputs": [],
   "source": [
    "print('input dim (batch size, sequence length) = %s'%str(train_X.shape))"
   ]
  },
  {
   "cell_type": "markdown",
   "metadata": {},
   "source": [
    "# Build model and run\n",
    "I'm using `LSTM` here since it allows dropout regularization compared to `CuDNNLSTM` without, for this small dataset. Test `CuDNNLSTM` in the future with `Dropout` layer added before `CuDNNLSTM` with large dataset as discussed [here](https://github.com/keras-team/keras/issues/8935)."
   ]
  },
  {
   "cell_type": "code",
   "execution_count": 10,
   "metadata": {},
   "outputs": [],
   "source": [
    "from keras.wrappers.scikit_learn import KerasClassifier\n",
    "\n",
    "def compile_lstm(embeddings, shape, settings):\n",
    "    model = Sequential()\n",
    "    model.add(\n",
    "        Embedding(\n",
    "            embeddings.shape[0],\n",
    "            embeddings.shape[1],\n",
    "            input_length=shape['max_length'],\n",
    "            trainable=False, # don't train spaCy embedding weights\n",
    "            weights=[embeddings],\n",
    "            mask_zero=True\n",
    "        )\n",
    "    )\n",
    "    model.add(TimeDistributed(Dense(shape['nr_hidden'], use_bias=False))) # linear activation defaulted\n",
    "    model.add(Bidirectional(LSTM(shape['nr_hidden'], \n",
    "                                 recurrent_dropout=settings['dropout'], # drop node fraction for the recurrent state.\n",
    "                                 dropout=settings['dropout']))) # drop node fraction for the inputs.\n",
    "    model.add(Dense(shape['nr_class'], activation='sigmoid'))\n",
    "    model.compile(optimizer=Adam(lr=settings['lr']), loss='binary_crossentropy', metrics=['accuracy'])\n",
    "    return model\n",
    "nr_hidden=64\n",
    "max_length=100\n",
    "dropout=0.5\n",
    "learn_rate=0.001\n",
    "epochs=2\n",
    "batch_size=16 # idk why spaCy sets mini-batch = 256 here, the paper says ideally SGD works best between 2 to 32 \n",
    "\n",
    "shape = {'nr_hidden': nr_hidden, 'max_length': max_length, 'nr_class': 1}\n",
    "settings = {'dropout': dropout, 'lr': learn_rate}\n",
    "#classifier = KerasClassifier(build_fn=compile_lstm, validation_data=(dev_X, dev_labels), epochs=epochs, batch_size=batch_size, verbose=1)\n",
    "classifier = KerasClassifier(build_fn=compile_lstm, epochs=epochs, batch_size=batch_size, verbose=1)\n",
    "#model = compile_lstm(embeddings, shape, settings)\n"
   ]
  },
  {
   "cell_type": "code",
   "execution_count": 42,
   "metadata": {},
   "outputs": [
    {
     "name": "stdout",
     "output_type": "stream",
     "text": [
      "s\n",
      "Epoch 1/2\n",
      "50000/50000 [==============================] - 475s 9ms/step - loss: 0.3333 - acc: 0.8553\n",
      "Epoch 2/2\n",
      "50000/50000 [==============================] - 432s 9ms/step - loss: 0.2664 - acc: 0.8902\n"
     ]
    }
   ],
   "source": [
    "import deep_learning_keras\n",
    "class Integer_list(object):\n",
    "    def __init__(self, maxlen=100):\n",
    "        self.maxlen=maxlen\n",
    "    def fit(self, X, y=None):\n",
    "#        print(X[0][0])        \n",
    "        return self\n",
    "    def transform(self, X, y=None):\n",
    "        X = list(nlp.pipe(X))\n",
    "        int_list = get_features(X, self.maxlen)\n",
    "        return int_list\n",
    "    \n",
    "integer_list = Integer_list(maxlen)\n",
    "import sklearn\n",
    "from sklearn.pipeline import Pipeline\n",
    "\n",
    "def fit(classifier, embeddings, shape, settings, integer_list, x_train, y_train): #sequencer, padder, x_train, y_train):\n",
    "    pipeline = Pipeline([\n",
    "#                ('sequencer', sequencer),\n",
    "#                ('padder', padder),\n",
    "                ('integer_list', integer_list),\n",
    "                ('keras_classifier', classifier)\n",
    "        ])\n",
    "    pipeline.set_params(keras_classifier__embeddings=embeddings, \n",
    "                        keras_classifier__settings=settings,\n",
    "                        keras_classifier__shape=shape)\n",
    "    c = pipeline.fit(x_train, y_train)\n",
    "    return c\n",
    "\n",
    "c = fit(classifier, embeddings, shape, settings, integer_list, #sequencer, padder, \n",
    "        train_sentences[:nsamp_train], train_labels)\n"
   ]
  },
  {
   "cell_type": "code",
   "execution_count": null,
   "metadata": {
    "scrolled": true
   },
   "outputs": [],
   "source": [
    "#model.fit(train_X, train_labels, validation_data=(dev_X, dev_labels), epochs=nb_epoch, batch_size=batch_size)"
   ]
  },
  {
   "cell_type": "markdown",
   "metadata": {},
   "source": [
    "Notice training on small mini-batches (<32 samples) prevents SGD to be stuck at local minima and accelerates convergence according to the [paper](https://arxiv.org/abs/1804.07612)."
   ]
  },
  {
   "cell_type": "code",
   "execution_count": null,
   "metadata": {},
   "outputs": [],
   "source": [
    "#model.save('model-5.h5') # no checkpoint set to save previous epochs\n",
    "from joblib import dump, load\n",
    "dump(c, 'model.joblib')"
   ]
  },
  {
   "cell_type": "markdown",
   "metadata": {},
   "source": [
    "# Prediction\n",
    "Test case of 6250 samples prediction:"
   ]
  },
  {
   "cell_type": "code",
   "execution_count": 58,
   "metadata": {
    "scrolled": true
   },
   "outputs": [
    {
     "name": "stdout",
     "output_type": "stream",
     "text": [
      "6250/6250 [==============================] - 15s 2ms/step\n"
     ]
    }
   ],
   "source": [
    "from keras.models import load_model\n",
    "#model = load_model('./input/model-5.h5')\n",
    "# test_X\n",
    "label_pred = c.predict_proba(test_sentences[nsamp_dev:2*nsamp_dev])\n"
   ]
  },
  {
   "cell_type": "code",
   "execution_count": 65,
   "metadata": {},
   "outputs": [
    {
     "data": {
      "text/plain": [
       "array([0.0024448, 0.9975552], dtype=float32)"
      ]
     },
     "execution_count": 65,
     "metadata": {},
     "output_type": "execute_result"
    }
   ],
   "source": [
    "label_pred"
   ]
  },
  {
   "cell_type": "code",
   "execution_count": 105,
   "metadata": {
    "scrolled": true
   },
   "outputs": [
    {
     "name": "stdout",
     "output_type": "stream",
     "text": [
      "accuracy  = 0.90528\n",
      "recall    = 0.9139475\n",
      "precision = 0.89842767\n",
      "F1 score  = 0.9061211435751151\n"
     ]
    }
   ],
   "source": [
    "import tensorflow as tf\n",
    "from sklearn import metrics\n",
    "\n",
    "sess = tf.Session()\n",
    "threshold = [0.5]#np.arange(0,1,0.1)\n",
    "y_pred = tf.constant(np.asarray([i[1]>threshold for i in label_pred]).reshape((-1,)),dtype=tf.int64)\n",
    "y_true = tf.constant(test_labels,dtype=tf.int64)\n",
    "_, precision = tf.metrics.precision_at_thresholds(y_true, y_pred, threshold) # mean average precision \n",
    "_, recall = tf.metrics.recall_at_thresholds(y_true, y_pred, threshold) # mean average precision \n",
    "accuracy, update_op = tf.metrics.accuracy(y_true, y_pred)\n",
    "#_, m_ap = tf.metrics.average_precision_at_k(y_true, y_pred, 10) # mean average precision for top 5 predictions, AP@k is: sum k=1:x of (precision at k * change in recall at k)\n",
    "sess.run(tf.local_variables_initializer())\n",
    "precision = sess.run(precision)[0]\n",
    "recall = sess.run(recall)[0]\n",
    "accuracy = sess.run([accuracy,update_op])[1] # freq of accurate predictions\n",
    "#mAP = sess.run(m_ap)\n",
    "F1 = 2*precision*recall/(precision+recall)\n",
    "#print('mAP = %s'%mAP)\n",
    "#accuracy: A Tensor representing the accuracy, the value of total divided by count.\n",
    "#update_op: An operation that increments the total and count variables appropriately and whose value matches accuracy\n",
    "\n",
    "print('accuracy  = %s'%accuracy)\n",
    "print('recall    = %s'%recall)\n",
    "print('precision = %s'%precision)\n",
    "print('F1 score  = %s'%F1)\n"
   ]
  },
  {
   "cell_type": "markdown",
   "metadata": {},
   "source": [
    "For a threshold of 0.5, the scores are not bad considering training on my macbook air!\n",
    "\n",
    "Let's look at the ROC curve and the area under ROC curve:"
   ]
  },
  {
   "cell_type": "code",
   "execution_count": 71,
   "metadata": {
    "scrolled": true
   },
   "outputs": [
    {
     "name": "stdout",
     "output_type": "stream",
     "text": [
      "Area Under ROC curve = 0.9665671133764724\n"
     ]
    },
    {
     "data": {
      "image/png": "[encoded data removed]",
      "text/plain": [
       "<Figure size 360x360 with 1 Axes>"
      ]
     },
     "metadata": {
      "needs_background": "light"
     },
     "output_type": "display_data"
    }
   ],
   "source": [
    "import sklearn\n",
    "from sklearn.metrics import roc_auc_score, roc_curve, auc\n",
    "from matplotlib import pyplot as plt\n",
    "area_under_roc = sklearn.metrics.roc_auc_score(test_labels,label_pred[:,1]) \n",
    "fpr, tpr, thresholds = sklearn.metrics.roc_curve(test_labels,label_pred[:,1])\n",
    "roc_auc = sklearn.metrics.auc(fpr, tpr) # Area Under ROC Curve\n",
    "print('Area Under ROC curve = %s'%area_under_roc)\n",
    "\n",
    "#plt.figure()\n",
    "plt.figure(figsize=(5,5))\n",
    "plt.plot(fpr, tpr, color='darkorange',\n",
    "         lw=1, label='ROC curve (area = %0.2f)' % roc_auc)\n",
    "\n",
    "plt.plot([0, 1], [0, 1], color='navy', lw=2, linestyle='--')\n",
    "plt.xlim([0.0, 1.0])\n",
    "plt.ylim([0.0, 1])\n",
    "# ROC considers all thresholds of probabilities to plot the yellow curve\n",
    "# suppose at FPR=0.1, the TPR=0.9\n",
    "plt.xlabel('False Positive Rate') \n",
    "plt.ylabel('True Positive Rate')\n",
    "plt.title('Receiver Operating Characteristic')\n",
    "plt.legend(loc=\"lower right\")\n",
    "\n",
    "plt.show()"
   ]
  },
  {
   "cell_type": "markdown",
   "metadata": {},
   "source": [
    "# Interpreting the model\n",
    "[Why should I trust you?](https://arxiv.org/abs/1602.04938) That's exactly what Local Interpretable Model-Agnostic Explanations (LIME) is trying to resolve, explain all highly nonlinear black-box model results in a sensible way. The best example I see is the Wolf and Dog image recognition problem with high accuracy of classifying wolves, but turns out to be a good snow detecting model. So essentially trying to interpret the results with human knowledge after we trained our black box model. Below I'll pick some of our Amazon reviews and see if the model is actually capturing the semantics in a meaningful way."
   ]
  },
  {
   "cell_type": "code",
   "execution_count": 48,
   "metadata": {},
   "outputs": [],
   "source": [
    "# create explainer object\n",
    "from sklearn.pipeline import make_pipeline\n",
    "from sklearn.feature_extraction.text import TfidfVectorizer\n",
    "from lime.lime_text import LimeTextExplainer\n",
    "from importlib import reload\n",
    "\n",
    "class_names = ['bad','good']\n",
    "explainer = LimeTextExplainer(class_names=class_names, split_expression=tokenize_string)"
   ]
  },
  {
   "cell_type": "code",
   "execution_count": 112,
   "metadata": {
    "scrolled": false
   },
   "outputs": [
    {
     "name": "stdout",
     "output_type": "stream",
     "text": [
      "good book for a new developer: i've been trying to make the jump from hotshot user to developer since my job has me developing applications for other users, and i've tried a couple of access books that just didn't cover all the bases for turning a fairly advanced user into a developer. i liked this one because i thought it did an understandable job of doing this.\n",
      "5000/5000 [==============================] - 10s 2ms/step\n",
      "Document id: 83\n",
      "1/1 [==============================] - 0s 17ms/step\n",
      "Probability = 0.97093314\n",
      "True class: good\n"
     ]
    }
   ],
   "source": [
    "from keras.preprocessing.text import Tokenizer\n",
    "from keras.preprocessing.sequence import pad_sequences\n",
    "from sklearn.pipeline import TransformerMixin\n",
    "from sklearn.base import BaseEstimator\n",
    "\n",
    "\n",
    "test_cases = test_sentences[nsamp_dev:2*nsamp_dev]\n",
    "\n",
    "idx = 83\n",
    "sentence = test_cases[idx]\n",
    "print(sentence)\n",
    "exp = explainer.explain_instance(sentence, c.predict_proba, num_features=15)\n",
    "print('Document id: %d' % idx)\n",
    "print('Probability =', c.predict_proba([test_cases[idx]])[0,1])\n",
    "print('True class: %s' % class_names[test_labels[idx]])"
   ]
  },
  {
   "cell_type": "markdown",
   "metadata": {},
   "source": [
    "So where is it actually doing good? Can we explain why?"
   ]
  },
  {
   "cell_type": "code",
   "execution_count": 117,
   "metadata": {
    "scrolled": true
   },
   "outputs": [
    {
     "data": {
      "image/png": "[encoded data removed]",
      "text/plain": [
       "<Figure size 1080x720 with 1 Axes>"
      ]
     },
     "metadata": {
      "needs_background": "light"
     },
     "output_type": "display_data"
    }
   ],
   "source": [
    "from collections import OrderedDict\n",
    "import seaborn as sns\n",
    "weights = OrderedDict(exp.as_list())\n",
    "lime_weights = pd.DataFrame({'words': list(weights.keys()), 'weights': list(weights.values())})\n",
    "\n",
    "plt.figure(figsize=(15,10))\n",
    "sns.barplot(x=\"words\", y=\"weights\", data=lime_weights);\n",
    "plt.xticks(rotation=45)\n",
    "plt.title('Sample {} features weights given by LIME'.format(idx));"
   ]
  },
  {
   "cell_type": "markdown",
   "metadata": {},
   "source": [
    "From the above case, the highest weight is \"good\", which makes sense, and \"liked\" is also captured as a high positive word. As you can see many words (i.e., features) are very neutral but with higher weights, e.g., \"developer\", \"did\", \"I've\", \"this\", which is probably of bigger concern. Interesting that \"job\" has a positive weight, which is probably from \"good job\" being trained together most of the time. Let's see what a negative instance shows"
   ]
  },
  {
   "cell_type": "code",
   "execution_count": 119,
   "metadata": {
    "scrolled": true
   },
   "outputs": [
    {
     "name": "stdout",
     "output_type": "stream",
     "text": [
      "not a good book to start with: if you start learning uml, this is absolutely not a good pick. the orgnization of this book is poor. some parts are reiterated more than 0 times, some are seldomly mentioned.too many messy diagrams makes readers like me confused.\n",
      "5000/5000 [==============================] - 10s 2ms/step\n",
      "Document id: 85\n",
      "1/1 [==============================] - 0s 19ms/step\n",
      "Probability = 0.0037319383\n",
      "True class: bad\n"
     ]
    }
   ],
   "source": [
    "idx = 85\n",
    "sentence = test_cases[idx]\n",
    "print(sentence)\n",
    "exp = explainer.explain_instance(sentence, c.predict_proba, num_features=15)\n",
    "print('Document id: %d' % idx)\n",
    "print('Probability =', c.predict_proba([test_cases[idx]])[0,1])\n",
    "print('True class: %s' % class_names[test_labels[idx]])"
   ]
  },
  {
   "cell_type": "code",
   "execution_count": 120,
   "metadata": {
    "scrolled": false
   },
   "outputs": [
    {
     "data": {
      "image/png": "[encoded data removed]",
      "text/plain": [
       "<Figure size 1080x720 with 1 Axes>"
      ]
     },
     "metadata": {
      "needs_background": "light"
     },
     "output_type": "display_data"
    }
   ],
   "source": [
    "weights = OrderedDict(exp.as_list())\n",
    "lime_weights = pd.DataFrame({'words': list(weights.keys()), 'weights': list(weights.values())})\n",
    "\n",
    "plt.figure(figsize=(15,10))\n",
    "sns.barplot(x=\"words\", y=\"weights\", data=lime_weights);\n",
    "plt.xticks(rotation=45)\n",
    "plt.title('Sample {} features weights given by LIME'.format(idx));"
   ]
  },
  {
   "cell_type": "markdown",
   "metadata": {},
   "source": [
    "Wow, the bad review with \"not\", \"poor\" weighted heavily, so this is a model we can really rely on if we ignored the small weights contributed by the neutral words e.g., \"with\", \"absolutely\", \"pick\", etc."
   ]
  },
  {
   "cell_type": "markdown",
   "metadata": {},
   "source": [
    "# Summary\n",
    "The simple test of forecast shows small sample training (50,000) achieving pretty good result on a laptop using spaCy word embeddings! \n",
    "\n",
    "Further comparison with [TextBlob's](https://textblob.readthedocs.io/en/dev/index.html) \"polarity\" function might be interesting since it's build on state-of-the-art `NLTK` model."
   ]
  },
  {
   "cell_type": "markdown",
   "metadata": {},
   "source": [
    "# Reference\n",
    "* [LIME explained](https://medium.com/@ageitgey/natural-language-processing-is-fun-part-3-explaining-model-predictions-486d8616813c)\n",
    "* [small mini batches are good according to this paper!](https://arxiv.org/abs/1804.07612)\n",
    "* [embedding layer keras](https://machinelearningmastery.com/use-word-embedding-layers-deep-learning-keras/)\n",
    "* [cuDNNLSTM keras doc](https://keras.io/layers/recurrent/)\n",
    "* [cuDNNLSTM implement project](https://www.kaggle.com/anshulrai/cudnnlstm-implementation-93-7-accuracy)\n",
    "* [spaCy sentiment git](https://github.com/explosion/spaCy/blob/master/examples/deep_learning_keras.py)\n",
    "* [spaCy](https://spacy.io/models/)\n",
    "* [Python kaggle docker](https://github.com/Kaggle/docker-python/blob/master/Dockerfile)\n",
    "* [TextBlob](https://textblob.readthedocs.io/en/dev/index.html)\n",
    "* [Dropout applied before CuDNNLSTM](https://github.com/keras-team/keras/issues/8935)\n",
    "* [Visualize word embedding with PCA projection](https://machinelearningmastery.com/develop-word-embeddings-python-gensim/)\n",
    "* [DictVetorizer turns text to list of words](https://scikit-learn.org/stable/auto_examples/text/plot_hashing_vs_dict_vectorizer.html#sphx-glr-auto-examples-text-plot-hashing-vs-dict-vectorizer-py)"
   ]
  },
  {
   "cell_type": "code",
   "execution_count": null,
   "metadata": {},
   "outputs": [],
   "source": [
    "# This code from https://data4thought.com/deep-lime.html can directly \n",
    "# turn sentences into a list of words\n",
    "class TextsToSequences(Tokenizer, BaseEstimator, TransformerMixin):\n",
    "    \"\"\" Sklearn transformer to convert texts to indices list \n",
    "    (e.g. [[\"the cute cat\"], [\"the dog\"]] -> [[1, 2, 3], [1, 4]])\"\"\"\n",
    "    def __init__(self,  **kwargs):\n",
    "        super().__init__(**kwargs)\n",
    "        \n",
    "    def fit(self, texts, y=None):\n",
    "        self.fit_on_texts(texts)\n",
    "        return self\n",
    "    \n",
    "    def transform(self, texts, y=None):\n",
    "        return np.array(self.texts_to_sequences(texts))\n",
    "        \n",
    "\n",
    "class Padder(BaseEstimator, TransformerMixin):\n",
    "    \"\"\" Pad and crop uneven lists to the same length. \n",
    "    Only the end of lists longernthan the maxlen attribute are\n",
    "    kept, and lists shorter than maxlen are left-padded with zeros\n",
    "    \n",
    "    Attributes\n",
    "    ----------\n",
    "    maxlen: int\n",
    "        sizes of sequences after padding\n",
    "    max_index: int\n",
    "        maximum index known by the Padder, if a higher index is met during \n",
    "        transform it is transformed to a 0\n",
    "    \"\"\"\n",
    "    def __init__(self, maxlen=500):\n",
    "        self.maxlen = maxlen\n",
    "        self.max_index = None\n",
    "        \n",
    "    def fit(self, X, y=None):\n",
    "        self.max_index = pad_sequences(X, maxlen=self.maxlen).max()\n",
    "        return self\n",
    "    \n",
    "    def transform(self, X, y=None):\n",
    "        X = pad_sequences(X, maxlen=self.maxlen)\n",
    "        X[X > self.max_index] = 0\n",
    "        return X\n",
    "\n",
    "\n",
    "\n",
    "#vocab_size = 684800\n",
    "#sequencer = TextsToSequences(num_words=vocab_size)\n",
    "#padder = Padder(maxlen)\n",
    "def tokenize_string(string):\n",
    "    return string.split()\n",
    "\n",
    "def strip_formatting(string):\n",
    "    string = string.lower()\n",
    "    string = re.sub(r\"([.!?,'/()])\", r\" \\1 \", string)\n",
    "    return string"
   ]
  }
 ],
 "metadata": {
  "kernelspec": {
   "display_name": "Python 3",
   "language": "python",
   "name": "python3"
  },
  "language_info": {
   "codemirror_mode": {
    "name": "ipython",
    "version": 3
   },
   "file_extension": ".py",
   "mimetype": "text/x-python",
   "name": "python",
   "nbconvert_exporter": "python",
   "pygments_lexer": "ipython3",
   "version": "3.7.2"
  }
 },
 "nbformat": 4,
 "nbformat_minor": 2
}
