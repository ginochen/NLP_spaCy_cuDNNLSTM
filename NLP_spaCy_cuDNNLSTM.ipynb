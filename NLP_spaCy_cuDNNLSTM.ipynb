{
 "cells": [
  {
   "cell_type": "markdown",
   "metadata": {},
   "source": [
    "# NLP spacy + LSTM Sentiment Analysis of Amazon Product Reviews \n",
    "# Overview\n",
    "This is a project of tagging \"good\" or \"bad\" Amazon product reviews (binary classification). The word embedding vectors are using state-of-the-art NLP product [spaCy](https://spacy.io/models/) and LSTM. \n",
    "\n",
    "What's learned?\n",
    "* Decoding binary files directly into strings\n",
    "* Parsing sentences into list of words, the \"truncated\" word sequence is then fed into LSTM.\n",
    "* Train many-to-one Bidirectional LSTM using spaCy frozen embeddings as Embedding layers, and a TimeDistributed Dense layer.\n",
    "* Small mini-batches converges faster!\n",
    "\n",
    "# Data\n",
    "The [data](https://www.kaggle.com/bittlingmayer/amazonreviews) is downloaded from Kaggle, and data cleaning and preprocessing uses the codes modified from the [kernel by Anshul Rai](https://www.kaggle.com/anshulrai/cudnnlstm-implementation-93-7-accuracy). \n"
   ]
  },
  {
   "cell_type": "code",
   "execution_count": 65,
   "metadata": {},
   "outputs": [
    {
     "name": "stdout",
     "output_type": "stream",
     "text": [
      "['test.ft.txt.bz2', 'train.ft.txt.bz2', 'amazonreviews.zip']\n"
     ]
    }
   ],
   "source": [
    "#import SentimentAnalyser # spaCy\n",
    "from deep_learning_keras import SentimentAnalyser\n",
    "from deep_learning_keras import get_features\n",
    "#import plac # reads in command line arguments via plac.call()\n",
    "#import random\n",
    "#import pathlib\n",
    "#import cytoolz\n",
    "#import thinc.extra.datasets\n",
    "#from spacy.compat import pickle\n",
    "import spacy\n",
    "import numpy as np \n",
    "import pandas as pd \n",
    "import bz2\n",
    "import gc # garbage collector, release unused memory\n",
    "import chardet\n",
    "import re\n",
    "import os\n",
    "print(os.listdir(\"./input\"))\n",
    "from keras.models import Model, Sequential, model_from_json\n",
    "from keras.layers import LSTM, Dense, Embedding, Bidirectional, TimeDistributed, Input, Conv1D, GlobalMaxPool1D, Dropout, concatenate, Layer, InputSpec, CuDNNLSTM\n",
    "from keras.optimizers import Adam\n",
    "#from keras.preprocessing import text, sequence\n",
    "from keras.callbacks import EarlyStopping, ModelCheckpoint\n",
    "from keras import backend as K\n",
    "from keras import activations, initializers, regularizers, constraints\n",
    "from keras.utils.conv_utils import conv_output_length\n",
    "from keras.regularizers import l2\n",
    "from keras.constraints import maxnorm\n",
    "\n"
   ]
  },
  {
   "cell_type": "markdown",
   "metadata": {},
   "source": [
    "Read in the train and test binary datasets:"
   ]
  },
  {
   "cell_type": "code",
   "execution_count": 102,
   "metadata": {},
   "outputs": [],
   "source": [
    "train_file = bz2.BZ2File('./input/train.ft.txt.bz2')\n",
    "test_file = bz2.BZ2File('./input/test.ft.txt.bz2')"
   ]
  },
  {
   "cell_type": "markdown",
   "metadata": {},
   "source": [
    "Decoding binary files directly into a list of strings:"
   ]
  },
  {
   "cell_type": "code",
   "execution_count": 6,
   "metadata": {},
   "outputs": [],
   "source": [
    "def readbinary2list(file): \n",
    "    lines = file.readlines()\n",
    "    lines = [line.decode('utf-8') for line in lines]\n",
    "    labels = [0 if line.split(' ')[0] == '__label__1' else 1 for line in lines]\n",
    "    sentences = [line.split(' ', 1)[1][:-1].lower() for line in lines]\n",
    "    for i in range(len(sentences)):\n",
    "        sentences[i] = re.sub('\\d','0',sentences[i])\n",
    "        if 'www.' in sentences[i] or 'http:' in sentences[i] or 'https:' in sentences[i] or '.com' in sentences[i]:\n",
    "            sentences[i] = re.sub(r\"([^ ]+(?<=\\.[a-z]{3}))\", \"<url>\", sentences[i])    \n",
    "    return labels, sentences"
   ]
  },
  {
   "cell_type": "code",
   "execution_count": 103,
   "metadata": {},
   "outputs": [],
   "source": [
    "test_labels,test_sentences = readbinary2list(test_file)\n",
    "train_labels,train_sentences = readbinary2list(train_file)"
   ]
  },
  {
   "cell_type": "markdown",
   "metadata": {},
   "source": [
    "Checkout how the labels and product review sentences look like:"
   ]
  },
  {
   "cell_type": "code",
   "execution_count": 41,
   "metadata": {},
   "outputs": [
    {
     "name": "stdout",
     "output_type": "stream",
     "text": [
      "label: 1 \n",
      "\n",
      "sentences: \n",
      "stuning even for the non-gamer: this sound track was beautiful! it paints the senery in your mind so well i would recomend it even to people who hate vid. game music! i have played the game chrono cross but out of all of the games i have ever played it has the best music! it backs away from crude keyboarding and takes a fresher step with grate guitars and soulful orchestras. it would impress anyone who cares to listen! ^_^\n",
      "\n",
      "label: 0 \n",
      "\n",
      "sentences: \n",
      "buyer beware: this is a self-published book, and if you want to know why--read a few paragraphs! those 0 star reviews must have been written by ms. haddon's family and friends--or perhaps, by herself! i can't imagine anyone reading the whole thing--i spent an evening with the book and a friend and we were in hysterics reading bits and pieces of it to one another. it is most definitely bad enough to be entered into some kind of a \"worst book\" contest. i can't believe amazon even sells this kind of thing. maybe i can offer them my 0th grade term paper on \"to kill a mockingbird\"--a book i am quite sure ms. haddon never heard of. anyway, unless you are in a mood to send a book to someone as a joke---stay far, far away from this one!\n",
      "\n"
     ]
    }
   ],
   "source": [
    "i=0\n",
    "print('label: %s \\n\\nsentences: \\n%s\\n'%(train_labels[i],train_sentences[i]))\n",
    "\n",
    "i=6\n",
    "print('label: %s \\n\\nsentences: \\n%s\\n'%(train_labels[i],train_sentences[i]))"
   ]
  },
  {
   "cell_type": "code",
   "execution_count": 54,
   "metadata": {},
   "outputs": [],
   "source": [
    "#gc.collect() # free memory\n",
    "maxlen = 100"
   ]
  },
  {
   "cell_type": "markdown",
   "metadata": {},
   "source": [
    "Load spaCy word embedding vectors, and parse the strings into a list of word sequences:"
   ]
  },
  {
   "cell_type": "code",
   "execution_count": 77,
   "metadata": {},
   "outputs": [],
   "source": [
    "def get_embeddings(vocab):\n",
    "    return vocab.vectors.data\n",
    "\n",
    "nlp = spacy.load('/usr/local/lib/python3.5/site-packages/spacy/data/en_core_web_lg/en_core_web_lg-2.0.0')\n",
    "try:\n",
    "    nlp.add_pipe(nlp.create_pipe('sentencizer'))\n",
    "except:\n",
    "    print('Sentencizer already loaded')\n",
    "nsamp_train = 50000\n",
    "nsamp_dev = round(nsamp_train/8)\n",
    "embeddings = get_embeddings(nlp.vocab)\n"
   ]
  },
  {
   "cell_type": "code",
   "execution_count": 78,
   "metadata": {},
   "outputs": [
    {
     "name": "stdout",
     "output_type": "stream",
     "text": [
      "Parsing texts...\n"
     ]
    }
   ],
   "source": [
    "print(\"Parsing texts...\")\n",
    "nsamp_dev = round(nsamp_train/8)\n",
    "train_docs = list(nlp.pipe(train_sentences[0:nsamp_train])) # makes a list of reviews, e.g., train_doc[0] contains the 1st review with texts separated into\n",
    "dev_docs   = list(nlp.pipe(test_sentences[0:nsamp_dev])) # makes a list of reviews, e.g., train_doc[0] contains the 1st review with texts separated into\n",
    "\n",
    "train_labels = np.asarray(train_labels[0:nsamp_train], dtype='int32')\n",
    "dev_labels   = np.asarray(test_labels[0:nsamp_dev], dtype='int32')\n",
    "\n",
    "test_docs   = list(nlp.pipe(test_sentences[nsamp_dev:2*nsamp_dev]))\n",
    "test_labels   = np.asarray(test_labels[nsamp_dev:2*nsamp_dev], dtype='int32')\n"
   ]
  },
  {
   "cell_type": "markdown",
   "metadata": {},
   "source": [
    "Map all the texts in the sentences into unique integers/features:"
   ]
  },
  {
   "cell_type": "code",
   "execution_count": 79,
   "metadata": {},
   "outputs": [],
   "source": [
    "train_X = get_features(train_docs, maxlen) \n",
    "dev_X = get_features(dev_docs, maxlen)\n",
    "test_X = get_features(test_docs, maxlen)"
   ]
  },
  {
   "cell_type": "code",
   "execution_count": 111,
   "metadata": {},
   "outputs": [
    {
     "name": "stdout",
     "output_type": "stream",
     "text": [
      "input dim (batch size, sequence length) = (50000, 100)\n"
     ]
    }
   ],
   "source": [
    "print('input dim (batch size, sequence length) = %s'%str(train_X.shape))"
   ]
  },
  {
   "cell_type": "markdown",
   "metadata": {},
   "source": [
    "# Build model and run\n",
    "I'm using `LSTM` here since it allows `dropout` compared to no dropout in `CuDNNLSTM` for this small dataset. Test `CuDNNLSTM` in the future with `Dropout` layer added before `CuDNNLSTM` with large dataset as discussed [here](https://github.com/keras-team/keras/issues/8935)."
   ]
  },
  {
   "cell_type": "code",
   "execution_count": 80,
   "metadata": {},
   "outputs": [],
   "source": [
    "def compile_lstm(embeddings, shape, settings):\n",
    "    model = Sequential()\n",
    "    model.add(\n",
    "        Embedding(\n",
    "            embeddings.shape[0],\n",
    "            embeddings.shape[1],\n",
    "            input_length=shape['max_length'],\n",
    "            trainable=False, # don't train spaCy embedding weights\n",
    "            weights=[embeddings],\n",
    "            mask_zero=True\n",
    "        )\n",
    "    )\n",
    "    model.add(TimeDistributed(Dense(shape['nr_hidden'], use_bias=False)))\n",
    "    model.add(Bidirectional(LSTM(shape['nr_hidden'], \n",
    "                                 recurrent_dropout=settings['dropout'], # drop node fraction for the recurrent state.\n",
    "                                 dropout=settings['dropout']))) # drop node fraction for the inputs.\n",
    "    model.add(Dense(shape['nr_class'], activation='sigmoid'))\n",
    "    model.compile(optimizer=Adam(lr=settings['lr']), loss='binary_crossentropy', metrics=['accuracy'])\n",
    "    return model\n",
    "nr_hidden=64\n",
    "max_length=100\n",
    "dropout=0.5\n",
    "learn_rate=0.001\n",
    "nb_epoch=5\n",
    "batch_size=32 # idk why spaCy sets mini-batch = 256 here, the paper says ideally SGD works best between 2 to 32 \n",
    "\n",
    "shape = {'nr_hidden': nr_hidden, 'max_length': max_length, 'nr_class': 1}\n",
    "settings = {'dropout': dropout, 'lr': learn_rate}\n",
    "model = compile_lstm(embeddings, shape, settings)\n"
   ]
  },
  {
   "cell_type": "code",
   "execution_count": 105,
   "metadata": {
    "scrolled": true
   },
   "outputs": [
    {
     "name": "stdout",
     "output_type": "stream",
     "text": [
      "Train on 50000 samples, validate on 6250 samples\n",
      "Epoch 1/5\n",
      "50000/50000 [==============================] - 189s 4ms/step - loss: 0.4131 - acc: 0.8111 - val_loss: 0.3166 - val_acc: 0.8630\n",
      "Epoch 2/5\n",
      "50000/50000 [==============================] - 162s 3ms/step - loss: 0.3254 - acc: 0.8598 - val_loss: 0.2844 - val_acc: 0.8794\n",
      "Epoch 3/5\n",
      "50000/50000 [==============================] - 130s 3ms/step - loss: 0.2937 - acc: 0.8780 - val_loss: 0.2624 - val_acc: 0.8931\n",
      "Epoch 4/5\n",
      "50000/50000 [==============================] - 138s 3ms/step - loss: 0.2802 - acc: 0.8837 - val_loss: 0.2630 - val_acc: 0.8952\n",
      "Epoch 5/5\n",
      "50000/50000 [==============================] - 122s 2ms/step - loss: 0.2674 - acc: 0.8896 - val_loss: 0.2618 - val_acc: 0.8968\n"
     ]
    },
    {
     "data": {
      "text/plain": [
       "<keras.callbacks.History at 0x12f5b54e0>"
      ]
     },
     "execution_count": 105,
     "metadata": {},
     "output_type": "execute_result"
    }
   ],
   "source": [
    "model.fit(train_X, train_labels, validation_data=(dev_X, dev_labels), epochs=nb_epoch, batch_size=batch_size)"
   ]
  },
  {
   "cell_type": "markdown",
   "metadata": {},
   "source": [
    "Notice training on small mini-batches (<32 samples) prevents SGD to be stuck at local minima and accelerates convergence according to the [paper](https://arxiv.org/abs/1804.07612)."
   ]
  },
  {
   "cell_type": "code",
   "execution_count": 106,
   "metadata": {},
   "outputs": [],
   "source": [
    "model.save('model-5.h5')"
   ]
  },
  {
   "cell_type": "markdown",
   "metadata": {},
   "source": [
    "# Prediction\n",
    "Test case of 6250 samples prediction:"
   ]
  },
  {
   "cell_type": "code",
   "execution_count": 160,
   "metadata": {},
   "outputs": [],
   "source": [
    "label_pred = model.predict(test_X)"
   ]
  },
  {
   "cell_type": "code",
   "execution_count": 197,
   "metadata": {
    "scrolled": true
   },
   "outputs": [
    {
     "name": "stdout",
     "output_type": "stream",
     "text": [
      "recall    = 0.86244404\n",
      "precision = 0.92550635\n",
      "F1 score  = 0.8928630715069191\n"
     ]
    }
   ],
   "source": [
    "import tensorflow as tf\n",
    "\n",
    "sess = tf.Session()\n",
    "threshold = [0.5]#np.arange(0,1,0.1)\n",
    "y_pred = tf.constant(np.asarray([i[0]>threshold for i in label_pred]).reshape((-1,)),dtype=tf.int64)\n",
    "y_true = tf.constant(test_labels,dtype=tf.int64)\n",
    "_, precision = tf.metrics.precision_at_thresholds(y_true, y_pred, threshold) # mean average precision \n",
    "_, recall = tf.metrics.recall_at_thresholds(y_true, y_pred, threshold) # mean average precision \n",
    "#_, m_ap = tf.metrics.average_precision_at_k(y_true, y_pred, 10) # mean average precision for top 5 predictions, AP@k is: sum k=1:x of (precision at k * change in recall at k)\n",
    "sess.run(tf.local_variables_initializer())\n",
    "precision = sess.run(precision)[0]\n",
    "recall = sess.run(recall)[0]\n",
    "#mAP = sess.run(m_ap)\n",
    "F1 = 2*precision*recall/(precision+recall)\n",
    "#print('mAP = %s'%mAP)\n",
    "print('recall    = %s'%recall)\n",
    "print('precision = %s'%precision)\n",
    "print('F1 score  = %s'%F1)"
   ]
  },
  {
   "cell_type": "markdown",
   "metadata": {},
   "source": [
    "For a threshold of 0.5, the scores are not bad considering training on my macbook air!\n",
    "\n",
    "Let's look at the ROC curve and the area under ROC curve:"
   ]
  },
  {
   "cell_type": "code",
   "execution_count": 205,
   "metadata": {},
   "outputs": [
    {
     "name": "stdout",
     "output_type": "stream",
     "text": [
      "Area Under ROC curve = 0.9615417816618783\n"
     ]
    },
    {
     "data": {
      "image/png": "[encoded data removed]",
      "text/plain": [
       "<Figure size 360x360 with 1 Axes>"
      ]
     },
     "metadata": {},
     "output_type": "display_data"
    }
   ],
   "source": [
    "import sklearn\n",
    "from sklearn.metrics import roc_auc_score, roc_curve, auc\n",
    "from matplotlib import pyplot as plt\n",
    "area_under_roc = sklearn.metrics.roc_auc_score(test_labels,label_pred) \n",
    "print('Area Under ROC curve = %s'%area_under_roc)\n",
    "fpr, tpr, thresholds = sklearn.metrics.roc_curve(test_labels,label_pred)\n",
    "roc_auc = sklearn.metrics.auc(fpr, tpr) # Area Under ROC Curve\n",
    "\n",
    "#plt.figure()\n",
    "plt.figure(figsize=(5,5))\n",
    "plt.plot(fpr, tpr, color='darkorange',\n",
    "         lw=1, label='ROC curve (area = %0.2f)' % roc_auc)\n",
    "\n",
    "plt.plot([0, 1], [0, 1], color='navy', lw=2, linestyle='--')\n",
    "plt.xlim([0.0, 1.0])\n",
    "plt.ylim([0.0, 1])\n",
    "# ROC considers all thresholds of probabilities to plot the yellow curve\n",
    "# suppose at FPR=0.1, the TPR=0.9\n",
    "plt.xlabel('False Positive Rate') \n",
    "plt.ylabel('True Positive Rate')\n",
    "plt.title('Receiver Operating Characteristic')\n",
    "plt.legend(loc=\"lower right\")\n",
    "\n",
    "plt.show()"
   ]
  },
  {
   "cell_type": "markdown",
   "metadata": {},
   "source": [
    "# Summary\n",
    "The simple test of forecast shows small sample training (50,000) achieving pretty good result on a laptop using spaCy word embeddings! \n",
    "\n",
    "Further comparison with [TextBlob's](https://textblob.readthedocs.io/en/dev/index.html) \"polarity\" function might be interesting since it's build on state-of-the-art `NLTK` model."
   ]
  },
  {
   "cell_type": "markdown",
   "metadata": {},
   "source": [
    "# Reference\n",
    "* [small mini batches are good according to this paper!](https://arxiv.org/abs/1804.07612)\n",
    "* [embedding layer keras](https://machinelearningmastery.com/use-word-embedding-layers-deep-learning-keras/)\n",
    "* [cuDNNLSTM keras doc](https://keras.io/layers/recurrent/)\n",
    "* [cuDNNLSTM implement project](https://www.kaggle.com/anshulrai/cudnnlstm-implementation-93-7-accuracy)\n",
    "* [spaCy sentiment git](https://github.com/explosion/spaCy/blob/master/examples/deep_learning_keras.py)\n",
    "* [spaCy](https://spacy.io/models/)\n",
    "* [Python kaggle docker](https://github.com/Kaggle/docker-python/blob/master/Dockerfile)\n",
    "* [TextBlob](https://textblob.readthedocs.io/en/dev/index.html)\n",
    "* [Dropout applied before CuDNNLSTM](https://github.com/keras-team/keras/issues/8935)"
   ]
  },
  {
   "cell_type": "code",
   "execution_count": null,
   "metadata": {},
   "outputs": [],
   "source": [
    "\n"
   ]
  }
 ],
 "metadata": {
  "kernelspec": {
   "display_name": "Python 3",
   "language": "python",
   "name": "python3"
  }
 },
 "nbformat": 4,
 "nbformat_minor": 2
}
